{
 "cells": [
  {
   "cell_type": "code",
   "execution_count": 2,
   "id": "63238d58",
   "metadata": {},
   "outputs": [
    {
     "name": "stdout",
     "output_type": "stream",
     "text": [
      "🌿 Advanced Cinnamon Price Forecasting System for Quillings\n",
      "============================================================\n"
     ]
    }
   ],
   "source": [
    "import pandas as pd\n",
    "import numpy as np\n",
    "from sklearn.preprocessing import StandardScaler, LabelEncoder\n",
    "import tensorflow as tf\n",
    "from tensorflow.keras.models import load_model\n",
    "import warnings\n",
    "import pickle\n",
    "import os\n",
    "from datetime import datetime\n",
    "import json\n",
    "from openpyxl import Workbook\n",
    "from openpyxl.styles import Font, PatternFill, Alignment, Border, Side\n",
    "from openpyxl.utils.dataframe import dataframe_to_rows\n",
    "from openpyxl.chart import LineChart, Reference\n",
    "import matplotlib.pyplot as plt\n",
    "\n",
    "warnings.filterwarnings(\"ignore\")\n",
    "\n",
    "# Configuration\n",
    "SEQUENCE_LENGTH = 12\n",
    "MODEL_DIR= \"C:/VERGER/Spice_Price_Prediction/Cinnamon/Datasets/Quillings_Dataset.csv\"\n",
    "OUTPUT_DIR= \"C:/VERGER/Spice_Price_Prediction/Cinnamon/Spice_Price_Prediction_VERGER/forecast_exports/Quillings\"\n",
    "\n",
    "# Global variables for preprocessors\n",
    "scaler_features = None\n",
    "scaler_target = None\n",
    "label_encoders = {}\n",
    "model_config = {}\n",
    "\n",
    "# Create output directory\n",
    "if not os.path.exists(OUTPUT_DIR):\n",
    "    os.makedirs(OUTPUT_DIR)\n",
    "    print(f\"Created output directory: {OUTPUT_DIR}\")\n",
    "\n",
    "print(\"🌿 Advanced Cinnamon Price Forecasting System for Quillings\")\n",
    "print(\"=\" * 60)\n",
    "\n",
    "def list_available_models(model_dir=MODEL_DIR):\n",
    "    \"\"\"List all available saved models\"\"\"\n",
    "    if not os.path.exists(model_dir):\n",
    "        print(f\"❌ Model directory not found: {model_dir}\")\n",
    "        return []\n",
    "    \n",
    "    model_folders = []\n",
    "    for item in os.listdir(model_dir):\n",
    "        item_path = os.path.join(model_dir, item)\n",
    "        if os.path.isdir(item_path):\n",
    "            # Check if it contains required model files\n",
    "            required_files = ['lstm_model.keras', 'scalers.pkl', 'label_encoders.pkl', 'model_config.json']\n",
    "            if all(os.path.exists(os.path.join(item_path, f)) for f in required_files):\n",
    "                model_folders.append(item)\n",
    "    \n",
    "    return sorted(model_folders, reverse=True)  # Most recent first"
   ]
  }
 ],
 "metadata": {
  "kernelspec": {
   "display_name": "Python 3",
   "language": "python",
   "name": "python3"
  },
  "language_info": {
   "codemirror_mode": {
    "name": "ipython",
    "version": 3
   },
   "file_extension": ".py",
   "mimetype": "text/x-python",
   "name": "python",
   "nbconvert_exporter": "python",
   "pygments_lexer": "ipython3",
   "version": "3.13.5"
  }
 },
 "nbformat": 4,
 "nbformat_minor": 5
}
