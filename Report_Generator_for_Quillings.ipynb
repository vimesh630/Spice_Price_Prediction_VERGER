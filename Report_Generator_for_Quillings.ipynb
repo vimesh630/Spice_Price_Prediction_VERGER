{
 "cells": [
  {
   "cell_type": "code",
   "execution_count": null,
   "id": "63238d58",
   "metadata": {},
   "outputs": [],
   "source": [
    "import pandas as pd\n",
    "import numpy as np\n",
    "from sklearn.preprocessing import StandardScaler, LabelEncoder\n",
    "import tensorflow as tf\n",
    "from tensorflow.keras.models import load_model\n",
    "import warnings\n",
    "import pickle\n",
    "import os\n",
    "from datetime import datetime\n",
    "import json\n",
    "from openpyxl import Workbook\n",
    "from openpyxl.styles import Font, PatternFill, Alignment, Border, Side\n",
    "from openpyxl.utils.dataframe import dataframe_to_rows\n",
    "from openpyxl.chart import LineChart, Reference\n",
    "import matplotlib.pyplot as plt\n",
    "\n",
    "warnings.filterwarnings(\"ignore\")\n",
    "\n",
    "# Configuration\n",
    "SEQUENCE_LENGTH = 12\n",
    "MODEL_DIR= \"C:/VERGER/Spice_Price_Prediction/Cinnamon/Datasets/Quillings_Dataset.csv\"\n",
    "OUTPUT_DIR= \"C:/VERGER/Spice_Price_Prediction/Cinnamon/Spice_Price_Prediction_VERGER/forecast_exports/Quillings\"\n"
   ]
  }
 ],
 "metadata": {
  "kernelspec": {
   "display_name": "Python 3",
   "language": "python",
   "name": "python3"
  },
  "language_info": {
   "codemirror_mode": {
    "name": "ipython",
    "version": 3
   },
   "file_extension": ".py",
   "mimetype": "text/x-python",
   "name": "python",
   "nbconvert_exporter": "python",
   "pygments_lexer": "ipython3",
   "version": "3.13.5"
  }
 },
 "nbformat": 4,
 "nbformat_minor": 5
}
