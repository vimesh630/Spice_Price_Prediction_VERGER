{
 "cells": [
  {
   "cell_type": "markdown",
   "id": "04475597",
   "metadata": {},
   "source": [
    "# 1. Import Required Libraries"
   ]
  },
  {
   "cell_type": "code",
   "execution_count": 1,
   "id": "ed985905",
   "metadata": {},
   "outputs": [
    {
     "name": "stderr",
     "output_type": "stream",
     "text": [
      "c:\\Users\\User\\AppData\\Local\\Programs\\Python\\Python313\\Lib\\site-packages\\tqdm\\auto.py:21: TqdmWarning: IProgress not found. Please update jupyter and ipywidgets. See https://ipywidgets.readthedocs.io/en/stable/user_install.html\n",
      "  from .autonotebook import tqdm as notebook_tqdm\n"
     ]
    }
   ],
   "source": [
    "import pandas as pd\n",
    "import numpy as np\n",
    "from sklearn.preprocessing import StandardScaler, LabelEncoder\n",
    "from sklearn.model_selection import train_test_split\n",
    "from sklearn.metrics import mean_absolute_error, mean_squared_error, r2_score\n",
    "import tensorflow as tf\n",
    "from tensorflow.keras.models import Sequential, load_model\n",
    "from tensorflow.keras.layers import LSTM, Dense, Dropout, GRU, SimpleRNN, BatchNormalization\n",
    "from tensorflow.keras.optimizers import Adam, RMSprop, SGD\n",
    "from tensorflow.keras.callbacks import EarlyStopping, ReduceLROnPlateau\n",
    "import matplotlib.pyplot as plt\n",
    "import seaborn as sns\n",
    "import warnings\n",
    "import pickle\n",
    "import os\n",
    "from datetime import datetime\n",
    "import json\n",
    "from itertools import product\n",
    "import optuna\n",
    "import time\n",
    "\n",
    "warnings.filterwarnings(\"ignore\")"
   ]
  },
  {
   "cell_type": "markdown",
   "id": "9a6123bb",
   "metadata": {},
   "source": [
    "# 2. Define Global Variables"
   ]
  },
  {
   "cell_type": "code",
   "execution_count": 2,
   "id": "e6686e67",
   "metadata": {},
   "outputs": [
    {
     "name": "stdout",
     "output_type": "stream",
     "text": [
      "Created model directory: C:/VERGER/Spice_Price_Prediction/Cinnamon/Datasets/Quillings_Dataset\n"
     ]
    }
   ],
   "source": [
    "SEQUENCE_LENGTH = 12  # 12 months lookback\n",
    "MODEL_DIR = 'C:/VERGER/Spice_Price_Prediction/Cinnamon/Datasets/Quillings_Dataset'\n",
    "\n",
    "# Create model directory\n",
    "if not os.path.exists(MODEL_DIR):\n",
    "    os.makedirs(MODEL_DIR)\n",
    "    print(f\"Created model directory: {MODEL_DIR}\")\n",
    "\n",
    "# Initialize preprocessors\n",
    "scaler_features = StandardScaler()\n",
    "scaler_target = StandardScaler()\n",
    "label_encoders = {}"
   ]
  },
  {
   "cell_type": "markdown",
   "id": "3db8b4ba",
   "metadata": {},
   "source": [
    "# 3. Data Loading and Preparation"
   ]
  },
  {
   "cell_type": "code",
   "execution_count": 3,
   "id": "6cae66a6",
   "metadata": {},
   "outputs": [],
   "source": [
    "def load_and_prepare_data(data_path):\n",
    "    \"\"\"Load and prepare the cinnamon price dataset\"\"\"\n",
    "    print(f\"Loading data from {data_path}...\")\n",
    "    df = pd.read_csv(data_path)\n",
    "    print(f\"Initial data shape: {df.shape}\")\n",
    "    print(f\"Columns: {df.columns.tolist()}\")\n",
    "\n",
    "    # Rename 'Date' to 'Month' and 'Price' to 'Regional_Price' for consistency\n",
    "    if 'Date' in df.columns:\n",
    "        df = df.rename(columns={'Date': 'Month'})\n",
    "    if 'Price' in df.columns:\n",
    "        df = df.rename(columns={'Price': 'Regional_Price'})\n",
    "\n",
    "    # Convert Month to datetime\n",
    "    df['Month'] = pd.to_datetime(df['Month'])\n",
    "\n",
    "    # Create National_Price as average of all regional prices for each date and grade\n",
    "    national_avg = df.groupby(['Month', 'Grade'])['Regional_Price'].mean().reset_index()\n",
    "    national_avg = national_avg.rename(columns={'Regional_Price': 'National_Price'})\n",
    "    df = df.merge(national_avg, on=['Month', 'Grade'], how='left')\n",
    "\n",
    "    # Create Is_Active_Region (all regions are active in this dataset)\n",
    "    df['Is_Active_Region'] = 1\n",
    "\n",
    "    # Encode categorical variables\n",
    "    for col in ['Grade', 'Region']:\n",
    "        if col not in label_encoders:\n",
    "            label_encoders[col] = LabelEncoder()\n",
    "        df[f'{col}_encoded'] = label_encoders[col].fit_transform(df[col])\n",
    "\n",
    "    # Create time-based features\n",
    "    df['Year'] = df['Month'].dt.year\n",
    "    df['Month_num'] = df['Month'].dt.month\n",
    "    df['Quarter'] = df['Month'].dt.quarter\n",
    "\n",
    "    print(\"Creating lag and rolling features...\")\n",
    "\n",
    "    # Sort data\n",
    "    df = df.sort_values(['Grade', 'Region', 'Month'])\n",
    "    \n",
    "    # Create lag features\n",
    "    lag_columns = ['Regional_Price', 'National_Price', 'Temperature', 'Rainfall']\n",
    "    for col in lag_columns:\n",
    "        if col in df.columns:\n",
    "            for lag in [1, 3, 6, 12]:\n",
    "                df[f'{col}_lag_{lag}'] = df.groupby(['Grade', 'Region'])[col].shift(lag)\n",
    "\n",
    "    # Create rolling averages\n",
    "    for col in ['Regional_Price', 'Temperature', 'Rainfall']:\n",
    "        if col in df.columns:\n",
    "            for window in [3, 6, 12]:\n",
    "                df[f'{col}_rolling_{window}'] = df.groupby(['Grade', 'Region'])[col].transform(\n",
    "                    lambda x: x.rolling(window).mean()\n",
    "                )\n",
    "\n",
    "    print(f\"Final data shape after feature engineering: {df.shape}\")\n",
    "    print(f\"Unique grades: {df['Grade'].unique()}\")\n",
    "    print(f\"Unique regions: {df['Region'].unique()}\")\n",
    "\n",
    "    return df"
   ]
  }
 ],
 "metadata": {
  "kernelspec": {
   "display_name": "Python 3",
   "language": "python",
   "name": "python3"
  },
  "language_info": {
   "codemirror_mode": {
    "name": "ipython",
    "version": 3
   },
   "file_extension": ".py",
   "mimetype": "text/x-python",
   "name": "python",
   "nbconvert_exporter": "python",
   "pygments_lexer": "ipython3",
   "version": "3.13.5"
  }
 },
 "nbformat": 4,
 "nbformat_minor": 5
}
